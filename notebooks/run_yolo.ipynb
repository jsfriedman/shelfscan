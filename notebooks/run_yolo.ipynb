{
 "cells": [
  {
   "cell_type": "code",
   "execution_count": 1,
   "metadata": {},
   "outputs": [],
   "source": [
    "from PIL import Image\n",
    "from ultralytics import YOLO, utils\n",
    "import matplotlib.pyplot as plt\n",
    "import numpy as np"
   ]
  },
  {
   "cell_type": "code",
   "execution_count": 2,
   "metadata": {},
   "outputs": [],
   "source": [
    "model = YOLO(r\"yolov8_n_24aug2023.pt\")"
   ]
  },
  {
   "cell_type": "code",
   "execution_count": 3,
   "metadata": {},
   "outputs": [],
   "source": [
    "im1 = Image.open(r\"..\\test-data\\book_shelf.jpg\")"
   ]
  },
  {
   "cell_type": "code",
   "execution_count": 4,
   "metadata": {},
   "outputs": [
    {
     "name": "stderr",
     "output_type": "stream",
     "text": [
      "\n",
      "0: 480x640 32 book-spines, 228.4ms\n",
      "Speed: 6.0ms preprocess, 228.4ms inference, 51.9ms postprocess per image at shape (1, 3, 480, 640)\n",
      "Results saved to \u001b[1me:\\Code\\shelfscan\\runs\\segment\\predict\u001b[0m\n"
     ]
    }
   ],
   "source": [
    "results = model.predict(source=im1, save=True, show_labels=False, show_conf=False, boxes=False)\n",
    "#results = model.predict(source=im1, save=True, show_labels=False, show_conf=False, boxes=False, device='cpu')"
   ]
  }
 ],
 "metadata": {
  "kernelspec": {
   "display_name": "venv",
   "language": "python",
   "name": "python3"
  },
  "language_info": {
   "codemirror_mode": {
    "name": "ipython",
    "version": 3
   },
   "file_extension": ".py",
   "mimetype": "text/x-python",
   "name": "python",
   "nbconvert_exporter": "python",
   "pygments_lexer": "ipython3",
   "version": "3.10.6"
  },
  "orig_nbformat": 4
 },
 "nbformat": 4,
 "nbformat_minor": 2
}
