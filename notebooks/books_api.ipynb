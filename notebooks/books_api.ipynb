{
 "cells": [
  {
   "cell_type": "code",
   "execution_count": 5,
   "metadata": {},
   "outputs": [],
   "source": [
    "from dotenv import load_dotenv\n",
    "import os\n",
    "import requests\n",
    "\n",
    "load_dotenv()\n",
    "\n",
    "API_KEY=os.getenv(\"API_KEY\")"
   ]
  },
  {
   "cell_type": "code",
   "execution_count": 33,
   "metadata": {},
   "outputs": [],
   "source": [
    "query = {\n",
    "      \"q\": '1 HLIANAT K _ ] \"04N',\n",
    "      \"maxResults\": 1,\n",
    "      \"orderBy\": \"relevance\"\n",
    "    }\n",
    "response = requests.get('https://www.googleapis.com/books/v1/volumes/', params=query)\n",
    "\n"
   ]
  },
  {
   "cell_type": "code",
   "execution_count": 34,
   "metadata": {},
   "outputs": [
    {
     "data": {
      "text/plain": [
       "{'title': 'Stress Tested: The Covid-19 Pandemic and Canadian National Security',\n",
       " 'authors': ['Leah West'],\n",
       " 'publisher': 'University of Calgary Press',\n",
       " 'publishedDate': '2021-12',\n",
       " 'description': \"The emergence of COVID-19 has raised urgent and important questions about the role of Canadian intelligence and national security within a global health crisis. Some argue that the effects of COVID-19 on Canada represent an intelligence failure, or a failure of early warning. Others argue that the role of intelligence and national security in matters of health is--and should remain--limited. At the same time, traditional security threats have rapidly evolved, themselves impacted and influenced by the global pandemic. Stress Tested brings together leading experts to examine the role of Canada's national security and intelligence community in anticipating, responding to, and managing a global public welfare emergency. This interdisciplinary collection offers a clear-eyed view of successes, failures, and lessons learned in Canada's pandemic response. Addressing topics including supply chain disruptions, infrastructure security, the ethics of surveillance within the context of pandemic response, the threats and potential threats of digital misinformation and fringe beliefs, and the challenges of maintaining security and intelligence operations during an ongoing pandemic, Stress Tested is essential reading for anyone interested in the lasting impacts of the COVID-19 pandemic.\",\n",
       " 'industryIdentifiers': [{'type': 'ISBN_10', 'identifier': '1773852434'},\n",
       "  {'type': 'ISBN_13', 'identifier': '9781773852430'}],\n",
       " 'readingModes': {'text': False, 'image': False},\n",
       " 'pageCount': 288,\n",
       " 'printType': 'BOOK',\n",
       " 'categories': ['Political Science'],\n",
       " 'maturityRating': 'NOT_MATURE',\n",
       " 'allowAnonLogging': False,\n",
       " 'contentVersion': 'preview-1.0.0',\n",
       " 'panelizationSummary': {'containsEpubBubbles': False,\n",
       "  'containsImageBubbles': False},\n",
       " 'imageLinks': {'smallThumbnail': 'http://books.google.com/books/content?id=nYRnzgEACAAJ&printsec=frontcover&img=1&zoom=5&source=gbs_api',\n",
       "  'thumbnail': 'http://books.google.com/books/content?id=nYRnzgEACAAJ&printsec=frontcover&img=1&zoom=1&source=gbs_api'},\n",
       " 'language': 'en',\n",
       " 'previewLink': 'http://books.google.com/books?id=nYRnzgEACAAJ&dq=1+HLIANAT+K+_+%5D+%2204N&hl=&cd=1&source=gbs_api',\n",
       " 'infoLink': 'http://books.google.com/books?id=nYRnzgEACAAJ&dq=1+HLIANAT+K+_+%5D+%2204N&hl=&source=gbs_api',\n",
       " 'canonicalVolumeLink': 'https://books.google.com/books/about/Stress_Tested_The_Covid_19_Pandemic_and.html?hl=&id=nYRnzgEACAAJ'}"
      ]
     },
     "execution_count": 34,
     "metadata": {},
     "output_type": "execute_result"
    }
   ],
   "source": [
    "response_json = response.json()\n",
    "book_info = response_json['items'][0]['volumeInfo']\n",
    "book_info"
   ]
  },
  {
   "cell_type": "code",
   "execution_count": 32,
   "metadata": {},
   "outputs": [
    {
     "name": "stdout",
     "output_type": "stream",
     "text": [
      "Resolved Title: Lobster Is the Best Medicine\n",
      "Resolved Author: ['Liz Climo']\n",
      "Resolved categories: ['Humor']\n"
     ]
    }
   ],
   "source": [
    "title = book_info['title']\n",
    "author = book_info['authors']\n",
    "categories = book_info['categories']\n",
    "print(f'Resolved Title: {title}')\n",
    "print(f'Resolved Author: {author}')\n",
    "print(f'Resolved categories: {categories}')"
   ]
  }
 ],
 "metadata": {
  "kernelspec": {
   "display_name": "venv",
   "language": "python",
   "name": "python3"
  },
  "language_info": {
   "codemirror_mode": {
    "name": "ipython",
    "version": 3
   },
   "file_extension": ".py",
   "mimetype": "text/x-python",
   "name": "python",
   "nbconvert_exporter": "python",
   "pygments_lexer": "ipython3",
   "version": "3.10.6"
  },
  "orig_nbformat": 4
 },
 "nbformat": 4,
 "nbformat_minor": 2
}
