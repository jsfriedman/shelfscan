{
 "cells": [
  {
   "cell_type": "code",
   "execution_count": 10,
   "metadata": {},
   "outputs": [],
   "source": [
    "from dotenv import load_dotenv\n",
    "import os\n",
    "import requests\n",
    "\n",
    "load_dotenv()\n",
    "\n",
    "API_KEY=os.getenv(\"API_KEY\")"
   ]
  },
  {
   "cell_type": "code",
   "execution_count": 11,
   "metadata": {},
   "outputs": [],
   "source": [
    "query = {\n",
    "      \"q\": '1 HLIANAT K _ ] \"04N',\n",
    "      \"maxResults\": 1,\n",
    "      \"orderBy\": \"relevance\"\n",
    "    }\n",
    "response = requests.get('https://www.googleapis.com/books/v1/volumes/', params=query)\n",
    "\n"
   ]
  },
  {
   "cell_type": "code",
   "execution_count": 12,
   "metadata": {},
   "outputs": [
    {
     "data": {
      "text/plain": [
       "{'title': 'Stress Tested: The Covid-19 Pandemic and Canadian National Security',\n",
       " 'authors': ['Leah West'],\n",
       " 'publisher': 'University of Calgary Press',\n",
       " 'publishedDate': '2021-12',\n",
       " 'description': \"The emergence of COVID-19 has raised urgent and important questions about the role of Canadian intelligence and national security within a global health crisis. Some argue that the effects of COVID-19 on Canada represent an intelligence failure, or a failure of early warning. Others argue that the role of intelligence and national security in matters of health is--and should remain--limited. At the same time, traditional security threats have rapidly evolved, themselves impacted and influenced by the global pandemic. Stress Tested brings together leading experts to examine the role of Canada's national security and intelligence community in anticipating, responding to, and managing a global public welfare emergency. This interdisciplinary collection offers a clear-eyed view of successes, failures, and lessons learned in Canada's pandemic response. Addressing topics including supply chain disruptions, infrastructure security, the ethics of surveillance within the context of pandemic response, the threats and potential threats of digital misinformation and fringe beliefs, and the challenges of maintaining security and intelligence operations during an ongoing pandemic, Stress Tested is essential reading for anyone interested in the lasting impacts of the COVID-19 pandemic.\",\n",
       " 'industryIdentifiers': [{'type': 'ISBN_10', 'identifier': '1773852434'},\n",
       "  {'type': 'ISBN_13', 'identifier': '9781773852430'}],\n",
       " 'readingModes': {'text': False, 'image': False},\n",
       " 'pageCount': 288,\n",
       " 'printType': 'BOOK',\n",
       " 'categories': ['Political Science'],\n",
       " 'maturityRating': 'NOT_MATURE',\n",
       " 'allowAnonLogging': False,\n",
       " 'contentVersion': 'preview-1.0.0',\n",
       " 'panelizationSummary': {'containsEpubBubbles': False,\n",
       "  'containsImageBubbles': False},\n",
       " 'imageLinks': {'smallThumbnail': 'http://books.google.com/books/content?id=nYRnzgEACAAJ&printsec=frontcover&img=1&zoom=5&source=gbs_api',\n",
       "  'thumbnail': 'http://books.google.com/books/content?id=nYRnzgEACAAJ&printsec=frontcover&img=1&zoom=1&source=gbs_api'},\n",
       " 'language': 'en',\n",
       " 'previewLink': 'http://books.google.com/books?id=nYRnzgEACAAJ&dq=1+HLIANAT+K+_+%5D+%2204N&hl=&cd=1&source=gbs_api',\n",
       " 'infoLink': 'http://books.google.com/books?id=nYRnzgEACAAJ&dq=1+HLIANAT+K+_+%5D+%2204N&hl=&source=gbs_api',\n",
       " 'canonicalVolumeLink': 'https://books.google.com/books/about/Stress_Tested_The_Covid_19_Pandemic_and.html?hl=&id=nYRnzgEACAAJ'}"
      ]
     },
     "execution_count": 12,
     "metadata": {},
     "output_type": "execute_result"
    }
   ],
   "source": [
    "response_json = response.json()\n",
    "book_info = response_json['items'][0]['volumeInfo']\n",
    "book_info"
   ]
  },
  {
   "cell_type": "code",
   "execution_count": 5,
   "metadata": {},
   "outputs": [
    {
     "name": "stdout",
     "output_type": "stream",
     "text": [
      "Resolved Title: Stress Tested: The Covid-19 Pandemic and Canadian National Security\n",
      "Resolved Author: ['Leah West']\n",
      "Resolved categories: ['Political Science']\n"
     ]
    }
   ],
   "source": [
    "title = book_info['title']\n",
    "author = book_info['authors']\n",
    "categories = book_info['categories']\n",
    "print(f'Resolved Title: {title}')\n",
    "print(f'Resolved Author: {author}')\n",
    "print(f'Resolved categories: {categories}')"
   ]
  },
  {
   "cell_type": "code",
   "execution_count": 18,
   "metadata": {},
   "outputs": [
    {
     "name": "stderr",
     "output_type": "stream",
     "text": [
      "\n",
      "0: 480x640 17 book-spines, 29.3ms\n",
      "Speed: 3.5ms preprocess, 29.3ms inference, 6.2ms postprocess per image at shape (1, 3, 480, 640)\n",
      "Results saved to \u001b[1mD:\\Code\\shelfscan\\runs\\segment\\predict23\u001b[0m\n"
     ]
    }
   ],
   "source": [
    "from PIL import Image\n",
    "from ultralytics import YOLO\n",
    "import numpy as np\n",
    "from shapely import Polygon\n",
    "import easyocr\n",
    "from scipy.ndimage import rotate as scipy_rotate\n",
    "import rasterio.features\n",
    "import pandas as pd\n",
    "\n",
    "def get_rotate_to_flat_angle(mask_polygon: Polygon) -> float:\n",
    "    centroid = mask_polygon.centroid.coords[0]\n",
    "\n",
    "    Ix = 0\n",
    "    Iy = 0\n",
    "    Ixy = 0\n",
    "\n",
    "    for i in range(len(mask_polygon.exterior.coords) - 1):\n",
    "        xi, yi = mask_polygon.exterior.coords[i]\n",
    "        xi1, yi1 = mask_polygon.exterior.coords[i + 1]\n",
    "\n",
    "        Ai = xi * yi1 - xi1 * yi\n",
    "        xi_avg = (xi + xi1) / 2\n",
    "        yi_avg = (yi + yi1) / 2\n",
    "\n",
    "        Ix += Ai * (yi_avg - centroid[1]) ** 2\n",
    "        Iy += Ai * (xi_avg - centroid[0]) ** 2\n",
    "        Ixy += Ai * (xi_avg - centroid[0]) * (yi_avg - centroid[1])\n",
    "        \n",
    "    theta_rad = 0.5 * np.arctan2(2 * Ixy, Ix - Iy)\n",
    "    theta_deg = np.degrees(theta_rad)\n",
    "    rotate_to_flat = -theta_deg\n",
    "    return rotate_to_flat\n",
    "\n",
    "def get_polygon_bounds_for_slicing(mask_polygon):\n",
    "    bounds_int = [int(_) for _ in mask_polygon.bounds] # .bounds returns floats, convert to int for slicing\n",
    "    min_x, min_y, max_x, max_y = bounds_int\n",
    "    return  min_x, min_y, max_x, max_y\n",
    "\n",
    "def extract_mask_array_from_image(input_image: Image, mask_polygon: Polygon) -> np.array:\n",
    "    mask_bitmap = rasterio.features.rasterize([mask_polygon], out_shape=(input_image.height, input_image.width))\n",
    "    input_image_bw = input_image.convert(\"L\")\n",
    "    input_image_masked = input_image_bw * mask_bitmap\n",
    "    min_x, min_y, max_x, max_y = get_polygon_bounds_for_slicing(mask_polygon)\n",
    "    input_image_masked_bounded_array = input_image_masked[min_y:max_y,min_x:max_x]\n",
    "\n",
    "    return input_image_masked_bounded_array\n",
    "\n",
    "def get_ocr_results_all_rotations(book_horizontal_array, reader) -> dict:\n",
    "    angles = [0, 90, 180, 270]\n",
    "    ocr_results = {}\n",
    "    for angle in angles:\n",
    "        rotated_array = scipy_rotate(book_horizontal_array, angle, reshape=True)\n",
    "        bookspine_ocr = reader.readtext(rotated_array, detail=0)\n",
    "        ocr_results[angle] = ' '.join([_.upper() for _ in bookspine_ocr])\n",
    "\n",
    "    return ocr_results\n",
    "\n",
    "def generate_ngrams_dict(ocr_results) -> dict:\n",
    "    ngrams_dict = {}\n",
    "    ngram_len = 3\n",
    "    for angle, ocr_text_result in ocr_results.items():\n",
    "        ngrams_ = []\n",
    "        for word in ocr_text_result.split(' '):\n",
    "            for start in range(0, len(word)-ngram_len-1):\n",
    "                ngram = word[start:start+ngram_len]\n",
    "                ngrams_.append(ngram)\n",
    "\n",
    "        ngrams_dict[angle] = ngrams_\n",
    "\n",
    "    return ngrams_dict\n",
    "\n",
    "def calculate_ocr_coherence_scores(ngrams_dict, ngram_data_df) -> dict:\n",
    "    ocr_results_coherence_scores = {}\n",
    "    for angle, ngrams in ngrams_dict.items():\n",
    "        sum = 0\n",
    "        for ngram in ngrams:\n",
    "            df_lookup = ngram_data_df[ ngram_data_df['3-gram'] == ngram ]['*/*'].values\n",
    "            if len(df_lookup) > 0:\n",
    "                sum += df_lookup[0]\n",
    "        ocr_results_coherence_scores[angle] = (sum / len(ngrams)) if ngrams else 0 # protect against divide by 0 error on empty lists\n",
    "    return ocr_results_coherence_scores\n",
    "\n",
    "def get_most_coherent_text(ocr_results_coherence_scores):\n",
    "    most_coherent_angle =  max(ocr_results_coherence_scores, key=ocr_results_coherence_scores.get)\n",
    "    return ocr_results[most_coherent_angle]\n",
    "\n",
    "input_image = Image.open(r\"..\\test-data\\book_shelf3.jpg\")\n",
    "model = YOLO(r\"yolov8_n_24aug2023.pt\")\n",
    "reader = easyocr.Reader(['en'])\n",
    "ngram_data_df = pd.read_csv('../3grams.csv')\n",
    "\n",
    "results = model.predict(source=input_image, save=True, show_labels=False, show_conf=False, boxes=False)\n",
    "bookspine_masks = [_ for _ in results[0].masks.xy if len(_) > 0] #filter empty masks\n",
    "ocr_book_spines =[]\n",
    "for bookspine_mask in bookspine_masks:\n",
    "    bookspine_mask_polygon = Polygon(bookspine_mask)\n",
    "    bookspine_isolated_np = extract_mask_array_from_image(input_image, bookspine_mask_polygon)\n",
    "    rotate_to_flat_angle = get_rotate_to_flat_angle(bookspine_mask_polygon)\n",
    "    bookspine_isolated_rotated_to_flat_np = scipy_rotate(bookspine_isolated_np, rotate_to_flat_angle, reshape=True)\n",
    "    ocr_results = get_ocr_results_all_rotations(bookspine_isolated_rotated_to_flat_np, reader)\n",
    "    ngrams_dict = generate_ngrams_dict(ocr_results)\n",
    "    ocr_results_coherence_scores = calculate_ocr_coherence_scores(ngrams_dict, ngram_data_df)\n",
    "    most_coherent_text = get_most_coherent_text(ocr_results_coherence_scores)\n",
    "    if len(most_coherent_text) > 0: # no purpose in storing blank results if they somehow happen\n",
    "        ocr_book_spines.append(most_coherent_text)\n",
    "\n"
   ]
  },
  {
   "cell_type": "code",
   "execution_count": 28,
   "metadata": {},
   "outputs": [
    {
     "data": {
      "text/plain": [
       "['My Beloved World by Sonia Sotomayor',\n",
       " \"Other People's Children by Lisa D. Delpit\",\n",
       " 'The Train to Crystal City by Jan Jarboe Russell',\n",
       " 'Please Excuse This Poem by Brett Fletcher Lauer, Lynn Melnick',\n",
       " 'unable to find match by unknown',\n",
       " 'unable to find match by unknown',\n",
       " 'unable to find match by unknown',\n",
       " 'Wuthering Heights by Emily Bronte',\n",
       " 'Go Back to where You Came from by Sasha Polakow-Suransky',\n",
       " 'My Life on the Road by Gloria Steinem',\n",
       " 'HBR Guide to Buying a Small Business by Richard S. Ruback, Royce Yudkoff',\n",
       " 'Lobster Is the Best Medicine by Liz Climo',\n",
       " 'Before I Fall by Lauren Oliver',\n",
       " 'Milk and Honey by Rupi Kaur',\n",
       " 'unable to find match by unknown']"
      ]
     },
     "execution_count": 28,
     "metadata": {},
     "output_type": "execute_result"
    }
   ],
   "source": [
    "from dotenv import load_dotenv\n",
    "import os\n",
    "import requests\n",
    "\n",
    "load_dotenv()\n",
    "\n",
    "API_KEY=os.getenv(\"API_KEY\")\n",
    "def query_book_info_from_book_spine(book_spine_text:str) -> dict:\n",
    "    query = {\n",
    "        \"q\": book_spine_text,\n",
    "        \"maxResults\": 1,\n",
    "        \"orderBy\": \"relevance\"\n",
    "        }\n",
    "    response = requests.get('https://www.googleapis.com/books/v1/volumes/', params=query)\n",
    "    response_json = response.json()\n",
    "    #print(response_json)\n",
    "    if response_json['totalItems'] > 0:\n",
    "        book_info = response_json['items'][0]['volumeInfo']\n",
    "    else:\n",
    "        book_info = {'title':'unable to find match', 'authors':['unknown']}\n",
    "    return book_info\n",
    "\n",
    "book_info_from_query = [query_book_info_from_book_spine(_) for _ in ocr_book_spines]\n",
    "[f\"{_['title']} by {', '.join(_['authors'])}\" for _ in book_info_from_query]"
   ]
  }
 ],
 "metadata": {
  "kernelspec": {
   "display_name": "venv",
   "language": "python",
   "name": "python3"
  },
  "language_info": {
   "codemirror_mode": {
    "name": "ipython",
    "version": 3
   },
   "file_extension": ".py",
   "mimetype": "text/x-python",
   "name": "python",
   "nbconvert_exporter": "python",
   "pygments_lexer": "ipython3",
   "version": "3.10.6"
  },
  "orig_nbformat": 4
 },
 "nbformat": 4,
 "nbformat_minor": 2
}
