{
 "cells": [
  {
   "cell_type": "code",
   "execution_count": 2,
   "metadata": {},
   "outputs": [],
   "source": [
    "from PIL import Image\n",
    "from ultralytics import YOLO, utils\n",
    "import matplotlib.pyplot as plt\n",
    "import numpy as np"
   ]
  },
  {
   "cell_type": "code",
   "execution_count": 4,
   "metadata": {},
   "outputs": [],
   "source": [
    "model = YOLO(r\"yolov8_n_24aug2023.pt\")"
   ]
  },
  {
   "cell_type": "code",
   "execution_count": 36,
   "metadata": {},
   "outputs": [],
   "source": [
    "im1 = Image.open(r\"..\\test-data\\book_shelf.jpg\")"
   ]
  },
  {
   "cell_type": "code",
   "execution_count": 6,
   "metadata": {},
   "outputs": [
    {
     "name": "stderr",
     "output_type": "stream",
     "text": [
      "\n",
      "0: 480x640 32 book-spines, 152.6ms\n",
      "Speed: 3.0ms preprocess, 152.6ms inference, 37.9ms postprocess per image at shape (1, 3, 480, 640)\n",
      "Results saved to \u001b[1me:\\Code\\shelfscan\\runs\\segment\\predict2\u001b[0m\n"
     ]
    }
   ],
   "source": [
    "results = model.predict(source=im1, save=True, show_labels=False, show_conf=False, boxes=False, device='cpu')"
   ]
  },
  {
   "cell_type": "code",
   "execution_count": 7,
   "metadata": {},
   "outputs": [
    {
     "name": "stderr",
     "output_type": "stream",
     "text": [
      "\n",
      "0: 480x640 32 book-spines, 128.2ms\n",
      "Speed: 4.0ms preprocess, 128.2ms inference, 31.9ms postprocess per image at shape (1, 3, 480, 640)\n",
      "Results saved to \u001b[1me:\\Code\\shelfscan\\runs\\segment\\predict2\u001b[0m\n"
     ]
    }
   ],
   "source": [
    "results = model.predict(source=im1, save=True, show_labels=False, show_conf=False, boxes=False)"
   ]
  },
  {
   "cell_type": "code",
   "execution_count": 8,
   "metadata": {},
   "outputs": [
    {
     "data": {
      "text/plain": [
       "[ultralytics.engine.results.Results object with attributes:\n",
       " \n",
       " boxes: ultralytics.engine.results.Boxes object\n",
       " keypoints: None\n",
       " keys: ['boxes', 'masks']\n",
       " masks: ultralytics.engine.results.Masks object\n",
       " names: {0: 'book-spine'}\n",
       " orig_img: array([[[ 46,  67,  98],\n",
       "         [ 45,  66,  97],\n",
       "         [ 44,  65,  96],\n",
       "         ...,\n",
       "         [ 85, 125, 167],\n",
       "         [ 91, 131, 173],\n",
       "         [ 98, 138, 180]],\n",
       " \n",
       "        [[ 46,  67,  98],\n",
       "         [ 45,  66,  97],\n",
       "         [ 44,  65,  96],\n",
       "         ...,\n",
       "         [ 86, 126, 168],\n",
       "         [ 91, 131, 173],\n",
       "         [ 97, 137, 179]],\n",
       " \n",
       "        [[ 44,  65,  96],\n",
       "         [ 44,  65,  96],\n",
       "         [ 43,  64,  95],\n",
       "         ...,\n",
       "         [ 87, 127, 169],\n",
       "         [ 91, 131, 173],\n",
       "         [ 95, 135, 177]],\n",
       " \n",
       "        ...,\n",
       " \n",
       "        [[ 94,  79,  33],\n",
       "         [ 93,  78,  32],\n",
       "         [ 89,  76,  30],\n",
       "         ...,\n",
       "         [146, 172, 189],\n",
       "         [146, 172, 189],\n",
       "         [146, 172, 189]],\n",
       " \n",
       "        [[ 94,  78,  35],\n",
       "         [ 93,  77,  34],\n",
       "         [ 91,  75,  32],\n",
       "         ...,\n",
       "         [148, 174, 191],\n",
       "         [149, 175, 192],\n",
       "         [149, 175, 192]],\n",
       " \n",
       "        [[ 94,  78,  35],\n",
       "         [ 93,  77,  34],\n",
       "         [ 91,  75,  32],\n",
       "         ...,\n",
       "         [150, 176, 193],\n",
       "         [150, 176, 193],\n",
       "         [151, 177, 194]]], dtype=uint8)\n",
       " orig_shape: (3024, 4032)\n",
       " path: '..\\\\test-data\\\\book_shelf.jpg'\n",
       " probs: None\n",
       " save_dir: 'e:\\\\Code\\\\shelfscan\\\\runs\\\\segment\\\\predict2'\n",
       " speed: {'preprocess': 3.989696502685547, 'inference': 128.16882133483887, 'postprocess': 31.911134719848633}]"
      ]
     },
     "execution_count": 8,
     "metadata": {},
     "output_type": "execute_result"
    }
   ],
   "source": [
    "results"
   ]
  },
  {
   "cell_type": "code",
   "execution_count": 9,
   "metadata": {},
   "outputs": [
    {
     "data": {
      "text/plain": [
       "32"
      ]
     },
     "execution_count": 9,
     "metadata": {},
     "output_type": "execute_result"
    }
   ],
   "source": [
    "len(results[0].masks.xy)"
   ]
  },
  {
   "cell_type": "code",
   "execution_count": 10,
   "metadata": {},
   "outputs": [],
   "source": [
    "mask_num = 2"
   ]
  },
  {
   "cell_type": "code",
   "execution_count": 11,
   "metadata": {},
   "outputs": [
    {
     "data": {
      "text/plain": [
       "array([[     1896.3,      1058.4],\n",
       "       [       1890,      1064.7],\n",
       "       [       1890,        1953],\n",
       "       [     1902.6,      1965.6],\n",
       "       [     2022.3,      1965.6],\n",
       "       [     2028.6,      1959.3],\n",
       "       [     2034.9,      1959.3],\n",
       "       [     2034.9,        1953],\n",
       "       [     2041.2,      1946.7],\n",
       "       [     2041.2,      1877.4],\n",
       "       [     2047.5,      1871.1],\n",
       "       [     2047.5,      1795.5],\n",
       "       [     2053.8,      1789.2],\n",
       "       [     2053.8,      1694.7],\n",
       "       [     2060.1,      1688.4],\n",
       "       [     2060.1,      1486.8],\n",
       "       [     2066.4,      1480.5],\n",
       "       [     2066.4,        1323],\n",
       "       [     2072.7,      1316.7],\n",
       "       [     2072.7,      1241.1],\n",
       "       [       2079,      1234.8],\n",
       "       [       2079,      1102.5],\n",
       "       [     2085.3,      1096.2],\n",
       "       [     2085.3,      1064.7],\n",
       "       [       2079,      1058.4]], dtype=float32)"
      ]
     },
     "execution_count": 11,
     "metadata": {},
     "output_type": "execute_result"
    }
   ],
   "source": [
    "results[0].masks.xy[mask_num] # X column and Y column\n",
    "# appears to be the coordinates of the exterior of the mask\n",
    "# need to find pixels behind the polygon of the mask"
   ]
  },
  {
   "cell_type": "code",
   "execution_count": 12,
   "metadata": {},
   "outputs": [
    {
     "data": {
      "text/plain": [
       "array([[1569, 1134],\n",
       "       [1562, 1140],\n",
       "       [1562, 1682],\n",
       "       [1569, 1688],\n",
       "       [1569, 1770],\n",
       "       [1575, 1777],\n",
       "       [1575, 1808],\n",
       "       [1581, 1814],\n",
       "       [1581, 1846],\n",
       "       [1588, 1852],\n",
       "       [1588, 1947],\n",
       "       [1594, 1953],\n",
       "       [1632, 1953],\n",
       "       [1632, 1947],\n",
       "       [1644, 1934],\n",
       "       [1644, 1871],\n",
       "       [1638, 1865],\n",
       "       [1638, 1814],\n",
       "       [1632, 1808],\n",
       "       [1632, 1373],\n",
       "       [1625, 1367],\n",
       "       [1625, 1203],\n",
       "       [1619, 1197],\n",
       "       [1619, 1159],\n",
       "       [1613, 1153],\n",
       "       [1613, 1140],\n",
       "       [1606, 1140],\n",
       "       [1600, 1134]])"
      ]
     },
     "execution_count": 12,
     "metadata": {},
     "output_type": "execute_result"
    }
   ],
   "source": [
    "np.round(results[0].masks.xy[0]).astype(int)  # X column and Y column array"
   ]
  },
  {
   "cell_type": "code",
   "execution_count": 13,
   "metadata": {},
   "outputs": [],
   "source": [
    "mask_xy = np.round(results[0].masks.xy[mask_num]).astype(int)"
   ]
  },
  {
   "cell_type": "code",
   "execution_count": 14,
   "metadata": {},
   "outputs": [
    {
     "data": {
      "text/plain": [
       "25"
      ]
     },
     "execution_count": 14,
     "metadata": {},
     "output_type": "execute_result"
    }
   ],
   "source": [
    "len(mask_xy)"
   ]
  },
  {
   "cell_type": "code",
   "execution_count": 15,
   "metadata": {},
   "outputs": [],
   "source": [
    "bit_mask = np.zeros(im1.size, dtype=int)"
   ]
  },
  {
   "cell_type": "code",
   "execution_count": 16,
   "metadata": {},
   "outputs": [
    {
     "data": {
      "text/plain": [
       "(4032, 3024)"
      ]
     },
     "execution_count": 16,
     "metadata": {},
     "output_type": "execute_result"
    }
   ],
   "source": [
    "im1.size"
   ]
  },
  {
   "cell_type": "code",
   "execution_count": 17,
   "metadata": {},
   "outputs": [],
   "source": [
    "bit_mask[mask_xy[:, 0], mask_xy[:, 1]] = 1"
   ]
  },
  {
   "cell_type": "code",
   "execution_count": 18,
   "metadata": {},
   "outputs": [
    {
     "data": {
      "text/plain": [
       "<matplotlib.image.AxesImage at 0x2543eace9e0>"
      ]
     },
     "execution_count": 18,
     "metadata": {},
     "output_type": "execute_result"
    },
    {
     "data": {
      "image/png": "[encoded data removed]",
      "text/plain": [
       "<Figure size 640x480 with 1 Axes>"
      ]
     },
     "metadata": {},
     "output_type": "display_data"
    }
   ],
   "source": [
    "plt.imshow(bit_mask)"
   ]
  },
  {
   "cell_type": "code",
   "execution_count": 19,
   "metadata": {},
   "outputs": [],
   "source": [
    "from shapely import Point, Polygon\n",
    "import shapely.vectorized\n",
    "import rasterio.features"
   ]
  },
  {
   "cell_type": "code",
   "execution_count": 20,
   "metadata": {},
   "outputs": [],
   "source": [
    "mask_polygon = Polygon(mask_xy)"
   ]
  },
  {
   "cell_type": "code",
   "execution_count": 21,
   "metadata": {},
   "outputs": [
    {
     "data": {
      "image/svg+xml": [
       "<svg xmlns=\"http://www.w3.org/2000/svg\" xmlns:xlink=\"http://www.w3.org/1999/xlink\" width=\"267.6400000000001\" height=\"300\" viewBox=\"1853.68 1021.68 267.6400000000001 980.64\" preserveAspectRatio=\"xMinYMin meet\"><g transform=\"matrix(1,0,0,-1,0,3024.0)\"><path fill-rule=\"evenodd\" fill=\"#66cc99\" stroke=\"#555555\" stroke-width=\"6.5376\" opacity=\"0.6\" d=\"M 1896.0,1058.0 L 1890.0,1065.0 L 1890.0,1953.0 L 1903.0,1966.0 L 2022.0,1966.0 L 2029.0,1959.0 L 2035.0,1959.0 L 2035.0,1953.0 L 2041.0,1947.0 L 2041.0,1877.0 L 2047.0,1871.0 L 2047.0,1795.0 L 2054.0,1789.0 L 2054.0,1695.0 L 2060.0,1688.0 L 2060.0,1487.0 L 2066.0,1480.0 L 2066.0,1323.0 L 2073.0,1317.0 L 2073.0,1241.0 L 2079.0,1235.0 L 2079.0,1102.0 L 2085.0,1096.0 L 2085.0,1065.0 L 2079.0,1058.0 L 1896.0,1058.0 z\" /></g></svg>"
      ],
      "text/plain": [
       "<POLYGON ((1896 1058, 1890 1065, 1890 1953, 1903 1966, 2022 1966, 2029 1959,...>"
      ]
     },
     "execution_count": 21,
     "metadata": {},
     "output_type": "execute_result"
    }
   ],
   "source": [
    "mask_polygon"
   ]
  },
  {
   "cell_type": "code",
   "execution_count": 22,
   "metadata": {},
   "outputs": [
    {
     "data": {
      "text/plain": [
       "[(1896.0, 1058.0),\n",
       " (1890.0, 1065.0),\n",
       " (1890.0, 1953.0),\n",
       " (1903.0, 1966.0),\n",
       " (2022.0, 1966.0),\n",
       " (2029.0, 1959.0),\n",
       " (2035.0, 1959.0),\n",
       " (2035.0, 1953.0),\n",
       " (2041.0, 1947.0),\n",
       " (2041.0, 1877.0),\n",
       " (2047.0, 1871.0),\n",
       " (2047.0, 1795.0),\n",
       " (2054.0, 1789.0),\n",
       " (2054.0, 1695.0),\n",
       " (2060.0, 1688.0),\n",
       " (2060.0, 1487.0),\n",
       " (2066.0, 1480.0),\n",
       " (2066.0, 1323.0),\n",
       " (2073.0, 1317.0),\n",
       " (2073.0, 1241.0),\n",
       " (2079.0, 1235.0),\n",
       " (2079.0, 1102.0),\n",
       " (2085.0, 1096.0),\n",
       " (2085.0, 1065.0),\n",
       " (2079.0, 1058.0),\n",
       " (1896.0, 1058.0)]"
      ]
     },
     "execution_count": 22,
     "metadata": {},
     "output_type": "execute_result"
    }
   ],
   "source": [
    "list(mask_polygon.exterior.coords)"
   ]
  },
  {
   "cell_type": "code",
   "execution_count": 23,
   "metadata": {},
   "outputs": [
    {
     "data": {
      "text/plain": [
       "4032"
      ]
     },
     "execution_count": 23,
     "metadata": {},
     "output_type": "execute_result"
    }
   ],
   "source": [
    "im1.width"
   ]
  },
  {
   "cell_type": "code",
   "execution_count": 24,
   "metadata": {},
   "outputs": [
    {
     "data": {
      "text/plain": [
       "(4032, 3024)"
      ]
     },
     "execution_count": 24,
     "metadata": {},
     "output_type": "execute_result"
    }
   ],
   "source": [
    "im1.size"
   ]
  },
  {
   "cell_type": "code",
   "execution_count": 31,
   "metadata": {},
   "outputs": [],
   "source": [
    "mask_map = rasterio.features.rasterize([mask_polygon], out_shape=(im1.height, im1.width))\n"
   ]
  },
  {
   "cell_type": "code",
   "execution_count": 32,
   "metadata": {},
   "outputs": [
    {
     "data": {
      "text/plain": [
       "<matplotlib.image.AxesImage at 0x25448410160>"
      ]
     },
     "execution_count": 32,
     "metadata": {},
     "output_type": "execute_result"
    },
    {
     "data": {
      "image/png": "[encoded data removed]",
      "text/plain": [
       "<Figure size 640x480 with 1 Axes>"
      ]
     },
     "metadata": {},
     "output_type": "display_data"
    }
   ],
   "source": [
    "plt.imshow(mask_map)"
   ]
  },
  {
   "cell_type": "code",
   "execution_count": 33,
   "metadata": {},
   "outputs": [],
   "source": [
    "# take mask_map and apply to input image to filter rgb image down to just the book spine\n",
    "# apply thresholding technique\n",
    "# apply ocr"
   ]
  },
  {
   "cell_type": "code",
   "execution_count": 37,
   "metadata": {},
   "outputs": [],
   "source": [
    "im1_bw = im1.convert(\"L\")"
   ]
  },
  {
   "cell_type": "code",
   "execution_count": 41,
   "metadata": {},
   "outputs": [
    {
     "data": {
      "text/plain": [
       "(4032, 3024)"
      ]
     },
     "execution_count": 41,
     "metadata": {},
     "output_type": "execute_result"
    }
   ],
   "source": [
    "im1_bw.size"
   ]
  },
  {
   "cell_type": "code",
   "execution_count": 42,
   "metadata": {},
   "outputs": [],
   "source": [
    "masked_image = im1_bw*mask_map"
   ]
  },
  {
   "cell_type": "code",
   "execution_count": 43,
   "metadata": {},
   "outputs": [
    {
     "data": {
      "text/plain": [
       "<matplotlib.image.AxesImage at 0x25453331840>"
      ]
     },
     "execution_count": 43,
     "metadata": {},
     "output_type": "execute_result"
    },
    {
     "data": {
      "image/png": "[encoded data removed]",
      "text/plain": [
       "<Figure size 640x480 with 1 Axes>"
      ]
     },
     "metadata": {},
     "output_type": "display_data"
    }
   ],
   "source": [
    "plt.imshow(masked_image)"
   ]
  },
  {
   "cell_type": "code",
   "execution_count": 47,
   "metadata": {},
   "outputs": [],
   "source": [
    "threshold = 64\n",
    "masked_image_thresholded = masked_image.copy()\n",
    "masked_image_thresholded[masked_image_thresholded > threshold] = 255"
   ]
  },
  {
   "cell_type": "code",
   "execution_count": 48,
   "metadata": {},
   "outputs": [
    {
     "data": {
      "text/plain": [
       "<matplotlib.image.AxesImage at 0x254509f2c50>"
      ]
     },
     "execution_count": 48,
     "metadata": {},
     "output_type": "execute_result"
    },
    {
     "data": {
      "image/png": "[encoded data removed]",
      "text/plain": [
       "<Figure size 640x480 with 1 Axes>"
      ]
     },
     "metadata": {},
     "output_type": "display_data"
    }
   ],
   "source": [
    "plt.imshow(masked_image_thresholded)"
   ]
  }
 ],
 "metadata": {
  "kernelspec": {
   "display_name": "venv",
   "language": "python",
   "name": "python3"
  },
  "language_info": {
   "codemirror_mode": {
    "name": "ipython",
    "version": 3
   },
   "file_extension": ".py",
   "mimetype": "text/x-python",
   "name": "python",
   "nbconvert_exporter": "python",
   "pygments_lexer": "ipython3",
   "version": "3.10.6"
  },
  "orig_nbformat": 4
 },
 "nbformat": 4,
 "nbformat_minor": 2
}
