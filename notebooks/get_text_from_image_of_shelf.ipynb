{
 "cells": [
  {
   "cell_type": "code",
   "execution_count": 11,
   "metadata": {},
   "outputs": [],
   "source": [
    "from PIL import Image\n",
    "import pytesseract\n",
    "import numpy as np\n",
    "import os\n",
    "pytesseract.pytesseract.tesseract_cmd = os.path.join('E:', os.sep,'Tesseract-OCR','tesseract')"
   ]
  },
  {
   "cell_type": "code",
   "execution_count": 12,
   "metadata": {},
   "outputs": [],
   "source": [
    "filename = os.path.join(\"..\",\"test-data\",\"book_shelf.jpg\")\n",
    "img1 = np.array(Image.open(filename))\n",
    "text = pytesseract.image_to_string(img1)"
   ]
  },
  {
   "cell_type": "code",
   "execution_count": 13,
   "metadata": {},
   "outputs": [
    {
     "name": "stdout",
     "output_type": "stream",
     "text": [
      "RARUKI MURAKAMI\n",
      "\n",
      "The Adventures of\n",
      "\n",
      "IBN BATTUTA\n",
      "\n",
      "Max Tegmark 4 tm\n",
      "Our Mathematical Universe\n",
      "ya SON OF THE STARS 2007\n",
      "\n",
      "DUNE\n",
      "\n",
      "Sa TIN 3NITIOVN BID 8ID \\\n",
      "\n",
      "Whe NMR ERS\n",
      "AMARA\n",
      "NDA\n",
      "\n",
      "\n"
     ]
    }
   ],
   "source": [
    "print(text)"
   ]
  }
 ],
 "metadata": {
  "kernelspec": {
   "display_name": "venv",
   "language": "python",
   "name": "python3"
  },
  "language_info": {
   "codemirror_mode": {
    "name": "ipython",
    "version": 3
   },
   "file_extension": ".py",
   "mimetype": "text/x-python",
   "name": "python",
   "nbconvert_exporter": "python",
   "pygments_lexer": "ipython3",
   "version": "3.10.6"
  },
  "orig_nbformat": 4
 },
 "nbformat": 4,
 "nbformat_minor": 2
}
