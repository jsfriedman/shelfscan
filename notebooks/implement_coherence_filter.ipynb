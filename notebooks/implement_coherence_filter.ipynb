{
 "cells": [
  {
   "cell_type": "code",
   "execution_count": 1,
   "metadata": {},
   "outputs": [],
   "source": [
    "# run the OCR outputs against a coherence detection model\n",
    "    # create markov chains of the letter transitions\n",
    "    # create frequency distributions of letter transitions in English\n",
    "    # strip out any numeric characters not attached to alpha characters, but fail the string if it only contains numeric characters\n",
    "    # score the OCR strings based on how many 'common' or 'real' letter transitions they have\n",
    "    # the highest scoring string is the most likely to have originated from the properly oriented image\n",
    "# use the string with the highest score"
   ]
  },
  {
   "cell_type": "code",
   "execution_count": 2,
   "metadata": {},
   "outputs": [],
   "source": [
    "from PIL import Image\n",
    "from ultralytics import YOLO\n",
    "import numpy as np\n",
    "from shapely import Polygon\n",
    "import easyocr\n",
    "from scipy.ndimage import rotate as scipy_rotate\n",
    "import rasterio.features\n",
    "\n",
    "def get_rotate_to_flat_angle(mask_polygon: Polygon) -> float:\n",
    "    centroid = mask_polygon.centroid.coords[0]\n",
    "\n",
    "    Ix = 0\n",
    "    Iy = 0\n",
    "    Ixy = 0\n",
    "\n",
    "    for i in range(len(mask_polygon.exterior.coords) - 1):\n",
    "        xi, yi = mask_polygon.exterior.coords[i]\n",
    "        xi1, yi1 = mask_polygon.exterior.coords[i + 1]\n",
    "\n",
    "        Ai = xi * yi1 - xi1 * yi\n",
    "        xi_avg = (xi + xi1) / 2\n",
    "        yi_avg = (yi + yi1) / 2\n",
    "\n",
    "        Ix += Ai * (yi_avg - centroid[1]) ** 2\n",
    "        Iy += Ai * (xi_avg - centroid[0]) ** 2\n",
    "        Ixy += Ai * (xi_avg - centroid[0]) * (yi_avg - centroid[1])\n",
    "        \n",
    "    theta_rad = 0.5 * np.arctan2(2 * Ixy, Ix - Iy)\n",
    "    theta_deg = np.degrees(theta_rad)\n",
    "    rotate_to_flat = -theta_deg\n",
    "    return rotate_to_flat\n",
    "\n",
    "def get_polygon_bounds_for_slicing(mask_polygon):\n",
    "    bounds_int = [int(_) for _ in mask_polygon.bounds] # .bounds returns floats, convert to int for slicing\n",
    "    min_x, min_y, max_x, max_y = bounds_int\n",
    "    return  min_x, min_y, max_x, max_y\n",
    "\n",
    "def extract_mask_array_from_image(input_image: Image, mask_polygon: Polygon) -> np.array:\n",
    "    mask_bitmap = rasterio.features.rasterize([mask_polygon], out_shape=(input_image.height, input_image.width))\n",
    "    input_image_bw = input_image.convert(\"L\")\n",
    "    input_image_masked = input_image_bw * mask_bitmap\n",
    "    min_x, min_y, max_x, max_y = get_polygon_bounds_for_slicing(mask_polygon)\n",
    "    input_image_masked_bounded_array = input_image_masked[min_y:max_y,min_x:max_x]\n",
    "\n",
    "    return input_image_masked_bounded_array\n",
    "\n",
    "def get_ocr_results_all_rotations(book_horizontal_array, reader) -> dict:\n",
    "    angles = [0, 90, 180, 270]\n",
    "    ocr_results = {}\n",
    "    for angle in angles:\n",
    "        rotated_array = scipy_rotate(book_horizontal_array, angle, reshape=True)\n",
    "        bookspine_ocr = reader.readtext(rotated_array, detail=0)\n",
    "        ocr_results[angle] = ' '.join(bookspine_ocr)\n",
    "\n",
    "    return ocr_results"
   ]
  },
  {
   "cell_type": "code",
   "execution_count": 5,
   "metadata": {},
   "outputs": [
    {
     "name": "stderr",
     "output_type": "stream",
     "text": [
      "Neither CUDA nor MPS are available - defaulting to CPU. Note: This module is much faster with a GPU.\n",
      "\n",
      "0: 480x640 32 book-spines, 115.7ms\n",
      "Speed: 4.0ms preprocess, 115.7ms inference, 30.9ms postprocess per image at shape (1, 3, 480, 640)\n",
      "Results saved to \u001b[1me:\\Code\\shelfscan\\runs\\segment\\predict17\u001b[0m\n"
     ]
    }
   ],
   "source": [
    "mask_num = 20\n",
    "\n",
    "input_image = Image.open(r\"..\\test-data\\book_shelf.jpg\")\n",
    "model = YOLO(r\"yolov8_n_24aug2023.pt\")\n",
    "reader = easyocr.Reader(['en'])\n",
    "\n",
    "results = model.predict(source=input_image, save=True, show_labels=False, show_conf=False, boxes=False)\n",
    "bookspine_mask = results[0].masks.xy[mask_num]\n",
    "bookspine_mask_polygon = Polygon(bookspine_mask)\n",
    "bookspine_isolated_np = extract_mask_array_from_image(input_image, bookspine_mask_polygon)\n",
    "rotate_to_flat_angle = get_rotate_to_flat_angle(bookspine_mask_polygon)\n",
    "bookspine_isolated_rotated_to_flat_np = scipy_rotate(bookspine_isolated_np, rotate_to_flat_angle, reshape=True)\n",
    "ocr_results = get_ocr_results_all_rotations(bookspine_isolated_rotated_to_flat_np, reader)"
   ]
  },
  {
   "cell_type": "code",
   "execution_count": 6,
   "metadata": {},
   "outputs": [
    {
     "data": {
      "text/plain": [
       "{0: 'doom Nvid]Mhon Uwiavunw mXnevh',\n",
       " 90: '1 1 1 8',\n",
       " 180: 'Haruki MURAKAMI Norwegian Wood',\n",
       " 270: '8 1 1 1'}"
      ]
     },
     "execution_count": 6,
     "metadata": {},
     "output_type": "execute_result"
    }
   ],
   "source": [
    "ocr_results"
   ]
  }
 ],
 "metadata": {
  "kernelspec": {
   "display_name": "venv",
   "language": "python",
   "name": "python3"
  },
  "language_info": {
   "codemirror_mode": {
    "name": "ipython",
    "version": 3
   },
   "file_extension": ".py",
   "mimetype": "text/x-python",
   "name": "python",
   "nbconvert_exporter": "python",
   "pygments_lexer": "ipython3",
   "version": "3.10.6"
  },
  "orig_nbformat": 4
 },
 "nbformat": 4,
 "nbformat_minor": 2
}
