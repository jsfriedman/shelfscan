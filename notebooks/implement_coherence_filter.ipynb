{
 "cells": [
  {
   "cell_type": "code",
   "execution_count": null,
   "metadata": {},
   "outputs": [],
   "source": [
    "# run the OCR outputs against a coherence detection model\n",
    "    # create markov chains of the letter transitions\n",
    "    # create frequency distributions of letter transitions in English\n",
    "    # score the OCR strings based on how many 'common' or 'real' letter transitions they have\n",
    "    # the highest scoring string is the most likely to have originated from the properly oriented image\n",
    "# use the string with the highest score"
   ]
  }
 ],
 "metadata": {
  "language_info": {
   "name": "python"
  },
  "orig_nbformat": 4
 },
 "nbformat": 4,
 "nbformat_minor": 2
}
