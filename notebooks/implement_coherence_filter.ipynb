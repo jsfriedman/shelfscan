{
 "cells": [
  {
   "cell_type": "code",
   "execution_count": 39,
   "metadata": {},
   "outputs": [],
   "source": [
    "from PIL import Image\n",
    "from ultralytics import YOLO\n",
    "import numpy as np\n",
    "from shapely import Polygon\n",
    "import easyocr\n",
    "from scipy.ndimage import rotate as scipy_rotate\n",
    "import rasterio.features\n",
    "import pandas as pd\n",
    "\n",
    "def get_rotate_to_flat_angle(mask_polygon: Polygon) -> float:\n",
    "    centroid = mask_polygon.centroid.coords[0]\n",
    "\n",
    "    Ix = 0\n",
    "    Iy = 0\n",
    "    Ixy = 0\n",
    "\n",
    "    for i in range(len(mask_polygon.exterior.coords) - 1):\n",
    "        xi, yi = mask_polygon.exterior.coords[i]\n",
    "        xi1, yi1 = mask_polygon.exterior.coords[i + 1]\n",
    "\n",
    "        Ai = xi * yi1 - xi1 * yi\n",
    "        xi_avg = (xi + xi1) / 2\n",
    "        yi_avg = (yi + yi1) / 2\n",
    "\n",
    "        Ix += Ai * (yi_avg - centroid[1]) ** 2\n",
    "        Iy += Ai * (xi_avg - centroid[0]) ** 2\n",
    "        Ixy += Ai * (xi_avg - centroid[0]) * (yi_avg - centroid[1])\n",
    "        \n",
    "    theta_rad = 0.5 * np.arctan2(2 * Ixy, Ix - Iy)\n",
    "    theta_deg = np.degrees(theta_rad)\n",
    "    rotate_to_flat = -theta_deg\n",
    "    return rotate_to_flat\n",
    "\n",
    "def get_polygon_bounds_for_slicing(mask_polygon):\n",
    "    bounds_int = [int(_) for _ in mask_polygon.bounds] # .bounds returns floats, convert to int for slicing\n",
    "    min_x, min_y, max_x, max_y = bounds_int\n",
    "    return  min_x, min_y, max_x, max_y\n",
    "\n",
    "def extract_mask_array_from_image(input_image: Image, mask_polygon: Polygon) -> np.array:\n",
    "    mask_bitmap = rasterio.features.rasterize([mask_polygon], out_shape=(input_image.height, input_image.width))\n",
    "    input_image_bw = input_image.convert(\"L\")\n",
    "    input_image_masked = input_image_bw * mask_bitmap\n",
    "    min_x, min_y, max_x, max_y = get_polygon_bounds_for_slicing(mask_polygon)\n",
    "    input_image_masked_bounded_array = input_image_masked[min_y:max_y,min_x:max_x]\n",
    "\n",
    "    return input_image_masked_bounded_array\n",
    "\n",
    "def get_ocr_results_all_rotations(book_horizontal_array, reader) -> dict:\n",
    "    angles = [0, 90, 180, 270]\n",
    "    ocr_results = {}\n",
    "    for angle in angles:\n",
    "        rotated_array = scipy_rotate(book_horizontal_array, angle, reshape=True)\n",
    "        bookspine_ocr = reader.readtext(rotated_array, detail=0)\n",
    "        ocr_results[angle] = ' '.join([_.upper() for _ in bookspine_ocr])\n",
    "\n",
    "    return ocr_results"
   ]
  },
  {
   "cell_type": "code",
   "execution_count": 108,
   "metadata": {},
   "outputs": [
    {
     "name": "stderr",
     "output_type": "stream",
     "text": [
      "Neither CUDA nor MPS are available - defaulting to CPU. Note: This module is much faster with a GPU.\n",
      "\n",
      "0: 480x640 32 book-spines, 122.7ms\n",
      "Speed: 6.0ms preprocess, 122.7ms inference, 30.9ms postprocess per image at shape (1, 3, 480, 640)\n",
      "Results saved to \u001b[1me:\\Code\\shelfscan\\runs\\segment\\predict25\u001b[0m\n"
     ]
    }
   ],
   "source": [
    "mask_num = 24\n",
    "\n",
    "input_image = Image.open(r\"..\\test-data\\book_shelf.jpg\")\n",
    "model = YOLO(r\"yolov8_n_24aug2023.pt\")\n",
    "reader = easyocr.Reader(['en'])\n",
    "\n",
    "results = model.predict(source=input_image, save=True, show_labels=False, show_conf=False, boxes=False)\n",
    "bookspine_mask = results[0].masks.xy[mask_num]\n",
    "bookspine_mask_polygon = Polygon(bookspine_mask)\n",
    "bookspine_isolated_np = extract_mask_array_from_image(input_image, bookspine_mask_polygon)\n",
    "rotate_to_flat_angle = get_rotate_to_flat_angle(bookspine_mask_polygon)\n",
    "bookspine_isolated_rotated_to_flat_np = scipy_rotate(bookspine_isolated_np, rotate_to_flat_angle, reshape=True)\n",
    "ocr_results = get_ocr_results_all_rotations(bookspine_isolated_rotated_to_flat_np, reader)"
   ]
  },
  {
   "cell_type": "code",
   "execution_count": 109,
   "metadata": {},
   "outputs": [
    {
     "data": {
      "text/plain": [
       "{0: 'BRAM STOKER DBACULA ',\n",
       " 90: '3 8 3',\n",
       " 180: '{ MDIDD #1XOIS WVAA',\n",
       " 270: '2 3 2'}"
      ]
     },
     "execution_count": 109,
     "metadata": {},
     "output_type": "execute_result"
    }
   ],
   "source": [
    "ocr_results"
   ]
  },
  {
   "cell_type": "markdown",
   "metadata": {},
   "source": [
    "***\n",
    "research begins here"
   ]
  },
  {
   "cell_type": "code",
   "execution_count": 110,
   "metadata": {},
   "outputs": [],
   "source": [
    "#### run the OCR outputs against a coherence detection model\n",
    "    # create markov chains of the letter transitions (start with just trigrams)\n",
    "    # create frequency distributions of letter transitions in English\n",
    "    # strip out any numeric characters not attached to alpha characters, but fail the string if it only contains numeric characters\n",
    "    # score the OCR strings based on how many 'common' or 'real' letter transitions they have\n",
    "    # the highest scoring string is the most likely to have originated from the properly oriented image\n",
    "##### use the string with the highest score"
   ]
  },
  {
   "cell_type": "code",
   "execution_count": 111,
   "metadata": {},
   "outputs": [],
   "source": [
    "# get trigrams from ocr results\n",
    "ngrams_dict = {}\n",
    "ngram_len = 3\n",
    "alpha_chars = 'abcdefghijklmnopqrstuvwxyz'\n",
    "for angle, ocr_text_result in ocr_results.items():\n",
    "    ngrams_ = []\n",
    "    for word in ocr_text_result.split(' '):\n",
    "        for start in range(0, len(word)-ngram_len-1):\n",
    "            ngram = word[start:start+ngram_len]\n",
    "            ngrams_.append(ngram)\n",
    "\n",
    "    ngrams_dict[angle] = ngrams_"
   ]
  },
  {
   "cell_type": "code",
   "execution_count": 112,
   "metadata": {},
   "outputs": [
    {
     "data": {
      "text/plain": [
       "{0: ['STO', 'TOK', 'DBA', 'BAC', 'ACU'],\n",
       " 90: [],\n",
       " 180: ['MDI', '#1X', '1XO'],\n",
       " 270: []}"
      ]
     },
     "execution_count": 112,
     "metadata": {},
     "output_type": "execute_result"
    }
   ],
   "source": [
    "ngrams_dict"
   ]
  },
  {
   "cell_type": "code",
   "execution_count": 113,
   "metadata": {},
   "outputs": [
    {
     "data": {
      "text/html": [
       "<div>\n",
       "<style scoped>\n",
       "    .dataframe tbody tr th:only-of-type {\n",
       "        vertical-align: middle;\n",
       "    }\n",
       "\n",
       "    .dataframe tbody tr th {\n",
       "        vertical-align: top;\n",
       "    }\n",
       "\n",
       "    .dataframe thead th {\n",
       "        text-align: right;\n",
       "    }\n",
       "</style>\n",
       "<table border=\"1\" class=\"dataframe\">\n",
       "  <thead>\n",
       "    <tr style=\"text-align: right;\">\n",
       "      <th></th>\n",
       "      <th>3-gram</th>\n",
       "      <th>*/*</th>\n",
       "    </tr>\n",
       "  </thead>\n",
       "  <tbody>\n",
       "    <tr>\n",
       "      <th>0</th>\n",
       "      <td>THE</td>\n",
       "      <td>69221160871</td>\n",
       "    </tr>\n",
       "    <tr>\n",
       "      <th>1</th>\n",
       "      <td>AND</td>\n",
       "      <td>26468697834</td>\n",
       "    </tr>\n",
       "    <tr>\n",
       "      <th>2</th>\n",
       "      <td>ING</td>\n",
       "      <td>21289988294</td>\n",
       "    </tr>\n",
       "    <tr>\n",
       "      <th>3</th>\n",
       "      <td>ION</td>\n",
       "      <td>20449402244</td>\n",
       "    </tr>\n",
       "    <tr>\n",
       "      <th>4</th>\n",
       "      <td>TIO</td>\n",
       "      <td>16819216214</td>\n",
       "    </tr>\n",
       "  </tbody>\n",
       "</table>\n",
       "</div>"
      ],
      "text/plain": [
       "  3-gram          */*\n",
       "0    THE  69221160871\n",
       "1    AND  26468697834\n",
       "2    ING  21289988294\n",
       "3    ION  20449402244\n",
       "4    TIO  16819216214"
      ]
     },
     "execution_count": 113,
     "metadata": {},
     "output_type": "execute_result"
    }
   ],
   "source": [
    "ngram_data_df = pd.read_csv('../3grams.csv')\n",
    "ngram_data_df.head()"
   ]
  },
  {
   "cell_type": "code",
   "execution_count": 114,
   "metadata": {},
   "outputs": [],
   "source": [
    "# ngram_data_df[ ngram_data_df['3-gram'] == ngrams[0][0] ]['*/*'].values[0]"
   ]
  },
  {
   "cell_type": "code",
   "execution_count": 115,
   "metadata": {},
   "outputs": [],
   "source": [
    "ngram_data_df = pd.read_csv('../3grams.csv')\n",
    "ocr_results_coherence_scores = {}\n",
    "for angle, ngrams in ngrams_dict.items():\n",
    "    sum = 0\n",
    "    for ngram in ngrams:\n",
    "        df_lookup = ngram_data_df[ ngram_data_df['3-gram'] == ngram ]['*/*'].values\n",
    "        if len(df_lookup) > 0:\n",
    "            sum += df_lookup[0]\n",
    "    ocr_results_coherence_scores[angle] = (sum / len(ngrams)) if ngrams else 0 # protect against divide by 0 error on empty lists"
   ]
  },
  {
   "cell_type": "code",
   "execution_count": 116,
   "metadata": {},
   "outputs": [
    {
     "name": "stdout",
     "output_type": "stream",
     "text": [
      "598444680.8\n",
      "136832.0\n"
     ]
    }
   ],
   "source": [
    "print(ocr_results_coherence_scores[0])\n",
    "print(ocr_results_coherence_scores[180])"
   ]
  },
  {
   "cell_type": "code",
   "execution_count": 117,
   "metadata": {},
   "outputs": [
    {
     "name": "stdout",
     "output_type": "stream",
     "text": [
      "best scoring orientation/most likely real entry: 0\n",
      "bookspine text: BRAM STOKER DBACULA \n"
     ]
    }
   ],
   "source": [
    "most_coherent_angle =  max(ocr_results_coherence_scores, key=ocr_results_coherence_scores.get)\n",
    "print(f'best scoring orientation/most likely real entry: {most_coherent_angle}')\n",
    "print(f'bookspine text: {ocr_results[most_coherent_angle]}')"
   ]
  },
  {
   "cell_type": "markdown",
   "metadata": {},
   "source": [
    "***\n",
    "whole process in 1 cell"
   ]
  },
  {
   "cell_type": "code",
   "execution_count": 2,
   "metadata": {},
   "outputs": [
    {
     "name": "stderr",
     "output_type": "stream",
     "text": [
      "Neither CUDA nor MPS are available - defaulting to CPU. Note: This module is much faster with a GPU.\n",
      "\n",
      "0: 480x640 17 book-spines, 140.6ms\n",
      "Speed: 5.0ms preprocess, 140.6ms inference, 17.0ms postprocess per image at shape (1, 3, 480, 640)\n",
      "Results saved to \u001b[1me:\\Code\\shelfscan\\runs\\segment\\predict28\u001b[0m\n"
     ]
    },
    {
     "name": "stdout",
     "output_type": "stream",
     "text": [
      "SONIA SOTOMAVOR BELOVED WORLD MY\n",
      "THE TRAIN TO CRYSTAL CITY JAN JARBOE RUSSELL\n",
      "UI S13IY 1431[ AN UCLINEM XWOD\n",
      "NEZHUKUMATATHIL MURLLR\n",
      "QU INILGAU T. (\n",
      "AM PUSHEEN THE CAT CIALEEELON\n",
      "NNOIVD DLVM NOSTIM\n",
      "WUTHERING HEIGHTS BRONTE EMILY \n",
      "\n",
      "60 BACK TO WHE SSHA POLAKOW- YOU CAME FRO SURANSKY\n",
      "GLORIA STEINEM MY LIFE ON THE ROAD\n",
      "HBR PRREALB  EA\n",
      "OBSTER IS THE BEST MEDICINE CLIMO\n",
      "OLIVER BEFORE FALL\n",
      "KAUR MILK AND HONEY\n",
      "1 HLIANAT K _ ] \"04N\n"
     ]
    }
   ],
   "source": [
    "from PIL import Image\n",
    "from ultralytics import YOLO\n",
    "import numpy as np\n",
    "from shapely import Polygon\n",
    "import easyocr\n",
    "from scipy.ndimage import rotate as scipy_rotate\n",
    "import rasterio.features\n",
    "import pandas as pd\n",
    "\n",
    "def get_rotate_to_flat_angle(mask_polygon: Polygon) -> float:\n",
    "    centroid = mask_polygon.centroid.coords[0]\n",
    "\n",
    "    Ix = 0\n",
    "    Iy = 0\n",
    "    Ixy = 0\n",
    "\n",
    "    for i in range(len(mask_polygon.exterior.coords) - 1):\n",
    "        xi, yi = mask_polygon.exterior.coords[i]\n",
    "        xi1, yi1 = mask_polygon.exterior.coords[i + 1]\n",
    "\n",
    "        Ai = xi * yi1 - xi1 * yi\n",
    "        xi_avg = (xi + xi1) / 2\n",
    "        yi_avg = (yi + yi1) / 2\n",
    "\n",
    "        Ix += Ai * (yi_avg - centroid[1]) ** 2\n",
    "        Iy += Ai * (xi_avg - centroid[0]) ** 2\n",
    "        Ixy += Ai * (xi_avg - centroid[0]) * (yi_avg - centroid[1])\n",
    "        \n",
    "    theta_rad = 0.5 * np.arctan2(2 * Ixy, Ix - Iy)\n",
    "    theta_deg = np.degrees(theta_rad)\n",
    "    rotate_to_flat = -theta_deg\n",
    "    return rotate_to_flat\n",
    "\n",
    "def get_polygon_bounds_for_slicing(mask_polygon):\n",
    "    bounds_int = [int(_) for _ in mask_polygon.bounds] # .bounds returns floats, convert to int for slicing\n",
    "    min_x, min_y, max_x, max_y = bounds_int\n",
    "    return  min_x, min_y, max_x, max_y\n",
    "\n",
    "def extract_mask_array_from_image(input_image: Image, mask_polygon: Polygon) -> np.array:\n",
    "    mask_bitmap = rasterio.features.rasterize([mask_polygon], out_shape=(input_image.height, input_image.width))\n",
    "    input_image_bw = input_image.convert(\"L\")\n",
    "    input_image_masked = input_image_bw * mask_bitmap\n",
    "    min_x, min_y, max_x, max_y = get_polygon_bounds_for_slicing(mask_polygon)\n",
    "    input_image_masked_bounded_array = input_image_masked[min_y:max_y,min_x:max_x]\n",
    "\n",
    "    return input_image_masked_bounded_array\n",
    "\n",
    "def get_ocr_results_all_rotations(book_horizontal_array, reader) -> dict:\n",
    "    angles = [0, 90, 180, 270]\n",
    "    ocr_results = {}\n",
    "    for angle in angles:\n",
    "        rotated_array = scipy_rotate(book_horizontal_array, angle, reshape=True)\n",
    "        bookspine_ocr = reader.readtext(rotated_array, detail=0)\n",
    "        ocr_results[angle] = ' '.join([_.upper() for _ in bookspine_ocr])\n",
    "\n",
    "    return ocr_results\n",
    "\n",
    "def generate_ngrams_dict(ocr_results) -> dict:\n",
    "    ngrams_dict = {}\n",
    "    ngram_len = 3\n",
    "    for angle, ocr_text_result in ocr_results.items():\n",
    "        ngrams_ = []\n",
    "        for word in ocr_text_result.split(' '):\n",
    "            for start in range(0, len(word)-ngram_len-1):\n",
    "                ngram = word[start:start+ngram_len]\n",
    "                ngrams_.append(ngram)\n",
    "\n",
    "        ngrams_dict[angle] = ngrams_\n",
    "\n",
    "    return ngrams_dict\n",
    "\n",
    "def calculate_ocr_coherence_scores(ngrams_dict, ngram_data_df) -> dict:\n",
    "    ocr_results_coherence_scores = {}\n",
    "    for angle, ngrams in ngrams_dict.items():\n",
    "        sum = 0\n",
    "        for ngram in ngrams:\n",
    "            df_lookup = ngram_data_df[ ngram_data_df['3-gram'] == ngram ]['*/*'].values\n",
    "            if len(df_lookup) > 0:\n",
    "                sum += df_lookup[0]\n",
    "        ocr_results_coherence_scores[angle] = (sum / len(ngrams)) if ngrams else 0 # protect against divide by 0 error on empty lists\n",
    "\n",
    "    return ocr_results_coherence_scores\n",
    "\n",
    "def get_most_coherent_text(ocr_results_coherence_scores):\n",
    "    most_coherent_angle =  max(ocr_results_coherence_scores, key=ocr_results_coherence_scores.get)\n",
    "    return ocr_results[most_coherent_angle]\n",
    "\n",
    "input_image = Image.open(r\"..\\test-data\\book_shelf3.jpg\")\n",
    "model = YOLO(r\"yolov8_n_24aug2023.pt\")\n",
    "reader = easyocr.Reader(['en'])\n",
    "ngram_data_df = pd.read_csv('../3grams.csv')\n",
    "\n",
    "results = model.predict(source=input_image, save=True, show_labels=False, show_conf=False, boxes=False)\n",
    "bookspine_masks = [_ for _ in results[0].masks.xy if len(_) > 0] #filter empty masks\n",
    "for bookspine_mask in bookspine_masks:\n",
    "    bookspine_mask_polygon = Polygon(bookspine_mask)\n",
    "    bookspine_isolated_np = extract_mask_array_from_image(input_image, bookspine_mask_polygon)\n",
    "    rotate_to_flat_angle = get_rotate_to_flat_angle(bookspine_mask_polygon)\n",
    "    bookspine_isolated_rotated_to_flat_np = scipy_rotate(bookspine_isolated_np, rotate_to_flat_angle, reshape=True)\n",
    "    ocr_results = get_ocr_results_all_rotations(bookspine_isolated_rotated_to_flat_np, reader)\n",
    "    ngrams_dict = generate_ngrams_dict(ocr_results)\n",
    "    ocr_results_coherence_scores = calculate_ocr_coherence_scores(ngrams_dict, ngram_data_df)\n",
    "    most_coherent_text = get_most_coherent_text(ocr_results_coherence_scores)\n",
    "    print(most_coherent_text)"
   ]
  }
 ],
 "metadata": {
  "kernelspec": {
   "display_name": "venv",
   "language": "python",
   "name": "python3"
  },
  "language_info": {
   "codemirror_mode": {
    "name": "ipython",
    "version": 3
   },
   "file_extension": ".py",
   "mimetype": "text/x-python",
   "name": "python",
   "nbconvert_exporter": "python",
   "pygments_lexer": "ipython3",
   "version": "3.10.6"
  },
  "orig_nbformat": 4
 },
 "nbformat": 4,
 "nbformat_minor": 2
}
